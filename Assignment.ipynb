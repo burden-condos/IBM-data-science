{
 "cells": [
  {
   "cell_type": "markdown",
   "id": "6743f346-4293-457e-be8b-51453e6fde28",
   "metadata": {},
   "source": [
    "# My Jupyter Notebook on IBM Watson Studio"
   ]
  },
  {
   "cell_type": "markdown",
   "id": "d66a3e4b-8175-473f-abc8-56fcfef5a214",
   "metadata": {},
   "source": [
    "Hello, my name is Condo!\n",
    "\n",
    "I am a to-be Data Scientist!\n",
    "\n",
    "1. Python\n",
    "2. SQL\n",
    "3. R\n",
    "4. Julia"
   ]
  },
  {
   "cell_type": "markdown",
   "id": "8865ad2f-7e58-45f4-addc-6c98b0c1b4b3",
   "metadata": {},
   "source": [
    "Hello, my name is Condo!\n",
    "\n",
    "I am a to-be Data Scientist!\n",
    "\n",
    "1. Pandas\n",
    "2. PyTorch\n",
    "3. Keras\n",
    "4. Scikit-Learn"
   ]
  },
  {
   "cell_type": "markdown",
   "id": "166df4c0-7c15-4a88-9f81-bbea0885ea1d",
   "metadata": {},
   "source": [
    "Hello, my name is Condo!\n",
    "\n",
    "I am a to-be Data Scientist!\n",
    "\n",
    "1. Excel\n",
    "2. Tableau\n",
    "3. PowerBI"
   ]
  },
  {
   "cell_type": "markdown",
   "id": "92fc66d5-4e3d-4ac1-845f-4f3d17e43fef",
   "metadata": {},
   "source": [
    "Hello, my name is Condo!\n",
    "\n",
    "I am a to-be Data Scientist!\n",
    "\n",
    "A multiply arithmetic expression between 8 and 2 can be expressed as: `8*2 = 16`"
   ]
  },
  {
   "cell_type": "code",
   "execution_count": 1,
   "id": "ec4bbbeb-96b5-4fff-98b1-160c0adfb276",
   "metadata": {},
   "outputs": [
    {
     "data": {
      "text/plain": [
       "17"
      ]
     },
     "execution_count": 1,
     "metadata": {},
     "output_type": "execute_result"
    }
   ],
   "source": [
    "8*2 + 1"
   ]
  },
  {
   "cell_type": "code",
   "execution_count": 2,
   "id": "7161e80c-47bf-4ead-b764-f8687c8f8ac6",
   "metadata": {},
   "outputs": [
    {
     "data": {
      "text/plain": [
       "(1.0, 1.3333333333333333)"
      ]
     },
     "execution_count": 2,
     "metadata": {},
     "output_type": "execute_result"
    }
   ],
   "source": [
    "def convert_min_to_hour(minutes: int):\n",
    "    return minutes / 60\n",
    "\n",
    "convert_min_to_hour(60), convert_min_to_hour(80)"
   ]
  },
  {
   "cell_type": "markdown",
   "id": "2e10b8ae-8f85-4046-8e36-643f92f40609",
   "metadata": {},
   "source": [
    "Hello, my name is Condo!\n",
    "\n",
    "I am a to-be Data Scientist!\n",
    "\n",
    "- A bottle\n",
    "- A car\n",
    "- A cat"
   ]
  },
  {
   "cell_type": "markdown",
   "id": "e43ff1b0-8997-4939-a455-6919ca8160dd",
   "metadata": {},
   "source": [
    "Hello, my name is Condo Huber!\n",
    "\n",
    "My email: condo.huber@gmail.com"
   ]
  },
  {
   "cell_type": "code",
   "execution_count": null,
   "id": "37e7940d-78d3-4ae5-8528-fbbc0fb26cb2",
   "metadata": {},
   "outputs": [],
   "source": []
  }
 ],
 "metadata": {
  "kernelspec": {
   "display_name": "Python 3 (ipykernel)",
   "language": "python",
   "name": "python3"
  },
  "language_info": {
   "codemirror_mode": {
    "name": "ipython",
    "version": 3
   },
   "file_extension": ".py",
   "mimetype": "text/x-python",
   "name": "python",
   "nbconvert_exporter": "python",
   "pygments_lexer": "ipython3",
   "version": "3.9.13"
  }
 },
 "nbformat": 4,
 "nbformat_minor": 5
}
